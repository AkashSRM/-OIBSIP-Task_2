{
  "nbformat": 4,
  "nbformat_minor": 0,
  "metadata": {
    "colab": {
      "provenance": [],
      "authorship_tag": "ABX9TyPMKXztS9mFhnOrwXd+Mg0c",
      "include_colab_link": true
    },
    "kernelspec": {
      "name": "python3",
      "display_name": "Python 3"
    },
    "language_info": {
      "name": "python"
    },
    "accelerator": "GPU"
  },
  "cells": [
    {
      "cell_type": "markdown",
      "metadata": {
        "id": "view-in-github",
        "colab_type": "text"
      },
      "source": [
        "<a href=\"https://colab.research.google.com/github/AkashSRM/-OIBSIP-Task_2/blob/main/SemanticFeatures.ipynb\" target=\"_parent\"><img src=\"https://colab.research.google.com/assets/colab-badge.svg\" alt=\"Open In Colab\"/></a>"
      ]
    },
    {
      "cell_type": "code",
      "execution_count": 1,
      "metadata": {
        "colab": {
          "base_uri": "https://localhost:8080/"
        },
        "id": "Ks3aQu63hBgf",
        "outputId": "b6c5e5e2-a302-4523-be3b-b5744af2633a"
      },
      "outputs": [
        {
          "output_type": "stream",
          "name": "stdout",
          "text": [
            "Cloning into 'Facial-Expression-Recognition.Pytorch'...\n",
            "remote: Enumerating objects: 1161, done.\u001b[K\n",
            "remote: Total 1161 (delta 0), reused 0 (delta 0), pack-reused 1161\u001b[K\n",
            "Receiving objects: 100% (1161/1161), 5.41 MiB | 21.46 MiB/s, done.\n",
            "Resolving deltas: 100% (80/80), done.\n"
          ]
        }
      ],
      "source": [
        "! git clone https://github.com/WuJie1010/Facial-Expression-Recognition.Pytorch.git\n"
      ]
    },
    {
      "cell_type": "code",
      "source": [],
      "metadata": {
        "id": "S9XDTaaoiUev"
      },
      "execution_count": null,
      "outputs": []
    }
  ]
}